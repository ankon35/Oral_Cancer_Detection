{
  "nbformat": 4,
  "nbformat_minor": 0,
  "metadata": {
    "colab": {
      "provenance": []
    },
    "kernelspec": {
      "name": "python3",
      "display_name": "Python 3"
    },
    "language_info": {
      "name": "python"
    },
    "widgets": {
      "application/vnd.jupyter.widget-state+json": {
        "c25db1929c464f609b43ac65bb8766cd": {
          "model_module": "@jupyter-widgets/controls",
          "model_name": "HBoxModel",
          "model_module_version": "1.5.0",
          "state": {
            "_dom_classes": [],
            "_model_module": "@jupyter-widgets/controls",
            "_model_module_version": "1.5.0",
            "_model_name": "HBoxModel",
            "_view_count": null,
            "_view_module": "@jupyter-widgets/controls",
            "_view_module_version": "1.5.0",
            "_view_name": "HBoxView",
            "box_style": "",
            "children": [
              "IPY_MODEL_2a76779af5c642a4baaffca50d08ad88",
              "IPY_MODEL_9cb0432eb19c4c918c129fd4b7fb39f4",
              "IPY_MODEL_ee7db9c91fcf4571a71b88d24739a134"
            ],
            "layout": "IPY_MODEL_64a77cfa36cc4557bacb44b9060eb07a"
          }
        },
        "2a76779af5c642a4baaffca50d08ad88": {
          "model_module": "@jupyter-widgets/controls",
          "model_name": "HTMLModel",
          "model_module_version": "1.5.0",
          "state": {
            "_dom_classes": [],
            "_model_module": "@jupyter-widgets/controls",
            "_model_module_version": "1.5.0",
            "_model_name": "HTMLModel",
            "_view_count": null,
            "_view_module": "@jupyter-widgets/controls",
            "_view_module_version": "1.5.0",
            "_view_name": "HTMLView",
            "description": "",
            "description_tooltip": null,
            "layout": "IPY_MODEL_6bac18a9020d4450a12c6e0de7581a77",
            "placeholder": "​",
            "style": "IPY_MODEL_839f48e01e4f4d6eb84d2656e297e6d0",
            "value": "config.json: 100%"
          }
        },
        "9cb0432eb19c4c918c129fd4b7fb39f4": {
          "model_module": "@jupyter-widgets/controls",
          "model_name": "FloatProgressModel",
          "model_module_version": "1.5.0",
          "state": {
            "_dom_classes": [],
            "_model_module": "@jupyter-widgets/controls",
            "_model_module_version": "1.5.0",
            "_model_name": "FloatProgressModel",
            "_view_count": null,
            "_view_module": "@jupyter-widgets/controls",
            "_view_module_version": "1.5.0",
            "_view_name": "ProgressView",
            "bar_style": "success",
            "description": "",
            "description_tooltip": null,
            "layout": "IPY_MODEL_5e2197d6210b4469aad73d6ce35afbb0",
            "max": 502,
            "min": 0,
            "orientation": "horizontal",
            "style": "IPY_MODEL_5bfaa7e0ac6a42e39a963e1013e3456b",
            "value": 502
          }
        },
        "ee7db9c91fcf4571a71b88d24739a134": {
          "model_module": "@jupyter-widgets/controls",
          "model_name": "HTMLModel",
          "model_module_version": "1.5.0",
          "state": {
            "_dom_classes": [],
            "_model_module": "@jupyter-widgets/controls",
            "_model_module_version": "1.5.0",
            "_model_name": "HTMLModel",
            "_view_count": null,
            "_view_module": "@jupyter-widgets/controls",
            "_view_module_version": "1.5.0",
            "_view_name": "HTMLView",
            "description": "",
            "description_tooltip": null,
            "layout": "IPY_MODEL_b3d4f10a2be4438db62df0fbd1a8121d",
            "placeholder": "​",
            "style": "IPY_MODEL_2204c0d4a75b4530824ccf943b9dc79f",
            "value": " 502/502 [00:00&lt;00:00, 38.8kB/s]"
          }
        },
        "64a77cfa36cc4557bacb44b9060eb07a": {
          "model_module": "@jupyter-widgets/base",
          "model_name": "LayoutModel",
          "model_module_version": "1.2.0",
          "state": {
            "_model_module": "@jupyter-widgets/base",
            "_model_module_version": "1.2.0",
            "_model_name": "LayoutModel",
            "_view_count": null,
            "_view_module": "@jupyter-widgets/base",
            "_view_module_version": "1.2.0",
            "_view_name": "LayoutView",
            "align_content": null,
            "align_items": null,
            "align_self": null,
            "border": null,
            "bottom": null,
            "display": null,
            "flex": null,
            "flex_flow": null,
            "grid_area": null,
            "grid_auto_columns": null,
            "grid_auto_flow": null,
            "grid_auto_rows": null,
            "grid_column": null,
            "grid_gap": null,
            "grid_row": null,
            "grid_template_areas": null,
            "grid_template_columns": null,
            "grid_template_rows": null,
            "height": null,
            "justify_content": null,
            "justify_items": null,
            "left": null,
            "margin": null,
            "max_height": null,
            "max_width": null,
            "min_height": null,
            "min_width": null,
            "object_fit": null,
            "object_position": null,
            "order": null,
            "overflow": null,
            "overflow_x": null,
            "overflow_y": null,
            "padding": null,
            "right": null,
            "top": null,
            "visibility": null,
            "width": null
          }
        },
        "6bac18a9020d4450a12c6e0de7581a77": {
          "model_module": "@jupyter-widgets/base",
          "model_name": "LayoutModel",
          "model_module_version": "1.2.0",
          "state": {
            "_model_module": "@jupyter-widgets/base",
            "_model_module_version": "1.2.0",
            "_model_name": "LayoutModel",
            "_view_count": null,
            "_view_module": "@jupyter-widgets/base",
            "_view_module_version": "1.2.0",
            "_view_name": "LayoutView",
            "align_content": null,
            "align_items": null,
            "align_self": null,
            "border": null,
            "bottom": null,
            "display": null,
            "flex": null,
            "flex_flow": null,
            "grid_area": null,
            "grid_auto_columns": null,
            "grid_auto_flow": null,
            "grid_auto_rows": null,
            "grid_column": null,
            "grid_gap": null,
            "grid_row": null,
            "grid_template_areas": null,
            "grid_template_columns": null,
            "grid_template_rows": null,
            "height": null,
            "justify_content": null,
            "justify_items": null,
            "left": null,
            "margin": null,
            "max_height": null,
            "max_width": null,
            "min_height": null,
            "min_width": null,
            "object_fit": null,
            "object_position": null,
            "order": null,
            "overflow": null,
            "overflow_x": null,
            "overflow_y": null,
            "padding": null,
            "right": null,
            "top": null,
            "visibility": null,
            "width": null
          }
        },
        "839f48e01e4f4d6eb84d2656e297e6d0": {
          "model_module": "@jupyter-widgets/controls",
          "model_name": "DescriptionStyleModel",
          "model_module_version": "1.5.0",
          "state": {
            "_model_module": "@jupyter-widgets/controls",
            "_model_module_version": "1.5.0",
            "_model_name": "DescriptionStyleModel",
            "_view_count": null,
            "_view_module": "@jupyter-widgets/base",
            "_view_module_version": "1.2.0",
            "_view_name": "StyleView",
            "description_width": ""
          }
        },
        "5e2197d6210b4469aad73d6ce35afbb0": {
          "model_module": "@jupyter-widgets/base",
          "model_name": "LayoutModel",
          "model_module_version": "1.2.0",
          "state": {
            "_model_module": "@jupyter-widgets/base",
            "_model_module_version": "1.2.0",
            "_model_name": "LayoutModel",
            "_view_count": null,
            "_view_module": "@jupyter-widgets/base",
            "_view_module_version": "1.2.0",
            "_view_name": "LayoutView",
            "align_content": null,
            "align_items": null,
            "align_self": null,
            "border": null,
            "bottom": null,
            "display": null,
            "flex": null,
            "flex_flow": null,
            "grid_area": null,
            "grid_auto_columns": null,
            "grid_auto_flow": null,
            "grid_auto_rows": null,
            "grid_column": null,
            "grid_gap": null,
            "grid_row": null,
            "grid_template_areas": null,
            "grid_template_columns": null,
            "grid_template_rows": null,
            "height": null,
            "justify_content": null,
            "justify_items": null,
            "left": null,
            "margin": null,
            "max_height": null,
            "max_width": null,
            "min_height": null,
            "min_width": null,
            "object_fit": null,
            "object_position": null,
            "order": null,
            "overflow": null,
            "overflow_x": null,
            "overflow_y": null,
            "padding": null,
            "right": null,
            "top": null,
            "visibility": null,
            "width": null
          }
        },
        "5bfaa7e0ac6a42e39a963e1013e3456b": {
          "model_module": "@jupyter-widgets/controls",
          "model_name": "ProgressStyleModel",
          "model_module_version": "1.5.0",
          "state": {
            "_model_module": "@jupyter-widgets/controls",
            "_model_module_version": "1.5.0",
            "_model_name": "ProgressStyleModel",
            "_view_count": null,
            "_view_module": "@jupyter-widgets/base",
            "_view_module_version": "1.2.0",
            "_view_name": "StyleView",
            "bar_color": null,
            "description_width": ""
          }
        },
        "b3d4f10a2be4438db62df0fbd1a8121d": {
          "model_module": "@jupyter-widgets/base",
          "model_name": "LayoutModel",
          "model_module_version": "1.2.0",
          "state": {
            "_model_module": "@jupyter-widgets/base",
            "_model_module_version": "1.2.0",
            "_model_name": "LayoutModel",
            "_view_count": null,
            "_view_module": "@jupyter-widgets/base",
            "_view_module_version": "1.2.0",
            "_view_name": "LayoutView",
            "align_content": null,
            "align_items": null,
            "align_self": null,
            "border": null,
            "bottom": null,
            "display": null,
            "flex": null,
            "flex_flow": null,
            "grid_area": null,
            "grid_auto_columns": null,
            "grid_auto_flow": null,
            "grid_auto_rows": null,
            "grid_column": null,
            "grid_gap": null,
            "grid_row": null,
            "grid_template_areas": null,
            "grid_template_columns": null,
            "grid_template_rows": null,
            "height": null,
            "justify_content": null,
            "justify_items": null,
            "left": null,
            "margin": null,
            "max_height": null,
            "max_width": null,
            "min_height": null,
            "min_width": null,
            "object_fit": null,
            "object_position": null,
            "order": null,
            "overflow": null,
            "overflow_x": null,
            "overflow_y": null,
            "padding": null,
            "right": null,
            "top": null,
            "visibility": null,
            "width": null
          }
        },
        "2204c0d4a75b4530824ccf943b9dc79f": {
          "model_module": "@jupyter-widgets/controls",
          "model_name": "DescriptionStyleModel",
          "model_module_version": "1.5.0",
          "state": {
            "_model_module": "@jupyter-widgets/controls",
            "_model_module_version": "1.5.0",
            "_model_name": "DescriptionStyleModel",
            "_view_count": null,
            "_view_module": "@jupyter-widgets/base",
            "_view_module_version": "1.2.0",
            "_view_name": "StyleView",
            "description_width": ""
          }
        },
        "482b28c4c46b45b09d5a06cebdbd9c74": {
          "model_module": "@jupyter-widgets/controls",
          "model_name": "HBoxModel",
          "model_module_version": "1.5.0",
          "state": {
            "_dom_classes": [],
            "_model_module": "@jupyter-widgets/controls",
            "_model_module_version": "1.5.0",
            "_model_name": "HBoxModel",
            "_view_count": null,
            "_view_module": "@jupyter-widgets/controls",
            "_view_module_version": "1.5.0",
            "_view_name": "HBoxView",
            "box_style": "",
            "children": [
              "IPY_MODEL_6140b32595df451a88c1402bcf072c5a",
              "IPY_MODEL_d0e85eeaca9442969aeae691988dc3c0",
              "IPY_MODEL_100dd42d8244474d8e4edbbd5b5ea83f"
            ],
            "layout": "IPY_MODEL_1ba42922377c4b8cbfbe36d2f2b3d85a"
          }
        },
        "6140b32595df451a88c1402bcf072c5a": {
          "model_module": "@jupyter-widgets/controls",
          "model_name": "HTMLModel",
          "model_module_version": "1.5.0",
          "state": {
            "_dom_classes": [],
            "_model_module": "@jupyter-widgets/controls",
            "_model_module_version": "1.5.0",
            "_model_name": "HTMLModel",
            "_view_count": null,
            "_view_module": "@jupyter-widgets/controls",
            "_view_module_version": "1.5.0",
            "_view_name": "HTMLView",
            "description": "",
            "description_tooltip": null,
            "layout": "IPY_MODEL_43aa91117a614873a74127ace4514983",
            "placeholder": "​",
            "style": "IPY_MODEL_acab09a85fb44cd7a3fcfde5b427d07c",
            "value": "model.safetensors: 100%"
          }
        },
        "d0e85eeaca9442969aeae691988dc3c0": {
          "model_module": "@jupyter-widgets/controls",
          "model_name": "FloatProgressModel",
          "model_module_version": "1.5.0",
          "state": {
            "_dom_classes": [],
            "_model_module": "@jupyter-widgets/controls",
            "_model_module_version": "1.5.0",
            "_model_name": "FloatProgressModel",
            "_view_count": null,
            "_view_module": "@jupyter-widgets/controls",
            "_view_module_version": "1.5.0",
            "_view_name": "ProgressView",
            "bar_style": "success",
            "description": "",
            "description_tooltip": null,
            "layout": "IPY_MODEL_fd626efceb0040068205e13084feea23",
            "max": 345579424,
            "min": 0,
            "orientation": "horizontal",
            "style": "IPY_MODEL_85889d6581934bccb6c5f8a1b9e06cd1",
            "value": 345579424
          }
        },
        "100dd42d8244474d8e4edbbd5b5ea83f": {
          "model_module": "@jupyter-widgets/controls",
          "model_name": "HTMLModel",
          "model_module_version": "1.5.0",
          "state": {
            "_dom_classes": [],
            "_model_module": "@jupyter-widgets/controls",
            "_model_module_version": "1.5.0",
            "_model_name": "HTMLModel",
            "_view_count": null,
            "_view_module": "@jupyter-widgets/controls",
            "_view_module_version": "1.5.0",
            "_view_name": "HTMLView",
            "description": "",
            "description_tooltip": null,
            "layout": "IPY_MODEL_2d1449ae04644c62bd9f1e6f7fb0eb17",
            "placeholder": "​",
            "style": "IPY_MODEL_8c02189859e2468db02a4ca1a1b85710",
            "value": " 346M/346M [00:01&lt;00:00, 181MB/s]"
          }
        },
        "1ba42922377c4b8cbfbe36d2f2b3d85a": {
          "model_module": "@jupyter-widgets/base",
          "model_name": "LayoutModel",
          "model_module_version": "1.2.0",
          "state": {
            "_model_module": "@jupyter-widgets/base",
            "_model_module_version": "1.2.0",
            "_model_name": "LayoutModel",
            "_view_count": null,
            "_view_module": "@jupyter-widgets/base",
            "_view_module_version": "1.2.0",
            "_view_name": "LayoutView",
            "align_content": null,
            "align_items": null,
            "align_self": null,
            "border": null,
            "bottom": null,
            "display": null,
            "flex": null,
            "flex_flow": null,
            "grid_area": null,
            "grid_auto_columns": null,
            "grid_auto_flow": null,
            "grid_auto_rows": null,
            "grid_column": null,
            "grid_gap": null,
            "grid_row": null,
            "grid_template_areas": null,
            "grid_template_columns": null,
            "grid_template_rows": null,
            "height": null,
            "justify_content": null,
            "justify_items": null,
            "left": null,
            "margin": null,
            "max_height": null,
            "max_width": null,
            "min_height": null,
            "min_width": null,
            "object_fit": null,
            "object_position": null,
            "order": null,
            "overflow": null,
            "overflow_x": null,
            "overflow_y": null,
            "padding": null,
            "right": null,
            "top": null,
            "visibility": null,
            "width": null
          }
        },
        "43aa91117a614873a74127ace4514983": {
          "model_module": "@jupyter-widgets/base",
          "model_name": "LayoutModel",
          "model_module_version": "1.2.0",
          "state": {
            "_model_module": "@jupyter-widgets/base",
            "_model_module_version": "1.2.0",
            "_model_name": "LayoutModel",
            "_view_count": null,
            "_view_module": "@jupyter-widgets/base",
            "_view_module_version": "1.2.0",
            "_view_name": "LayoutView",
            "align_content": null,
            "align_items": null,
            "align_self": null,
            "border": null,
            "bottom": null,
            "display": null,
            "flex": null,
            "flex_flow": null,
            "grid_area": null,
            "grid_auto_columns": null,
            "grid_auto_flow": null,
            "grid_auto_rows": null,
            "grid_column": null,
            "grid_gap": null,
            "grid_row": null,
            "grid_template_areas": null,
            "grid_template_columns": null,
            "grid_template_rows": null,
            "height": null,
            "justify_content": null,
            "justify_items": null,
            "left": null,
            "margin": null,
            "max_height": null,
            "max_width": null,
            "min_height": null,
            "min_width": null,
            "object_fit": null,
            "object_position": null,
            "order": null,
            "overflow": null,
            "overflow_x": null,
            "overflow_y": null,
            "padding": null,
            "right": null,
            "top": null,
            "visibility": null,
            "width": null
          }
        },
        "acab09a85fb44cd7a3fcfde5b427d07c": {
          "model_module": "@jupyter-widgets/controls",
          "model_name": "DescriptionStyleModel",
          "model_module_version": "1.5.0",
          "state": {
            "_model_module": "@jupyter-widgets/controls",
            "_model_module_version": "1.5.0",
            "_model_name": "DescriptionStyleModel",
            "_view_count": null,
            "_view_module": "@jupyter-widgets/base",
            "_view_module_version": "1.2.0",
            "_view_name": "StyleView",
            "description_width": ""
          }
        },
        "fd626efceb0040068205e13084feea23": {
          "model_module": "@jupyter-widgets/base",
          "model_name": "LayoutModel",
          "model_module_version": "1.2.0",
          "state": {
            "_model_module": "@jupyter-widgets/base",
            "_model_module_version": "1.2.0",
            "_model_name": "LayoutModel",
            "_view_count": null,
            "_view_module": "@jupyter-widgets/base",
            "_view_module_version": "1.2.0",
            "_view_name": "LayoutView",
            "align_content": null,
            "align_items": null,
            "align_self": null,
            "border": null,
            "bottom": null,
            "display": null,
            "flex": null,
            "flex_flow": null,
            "grid_area": null,
            "grid_auto_columns": null,
            "grid_auto_flow": null,
            "grid_auto_rows": null,
            "grid_column": null,
            "grid_gap": null,
            "grid_row": null,
            "grid_template_areas": null,
            "grid_template_columns": null,
            "grid_template_rows": null,
            "height": null,
            "justify_content": null,
            "justify_items": null,
            "left": null,
            "margin": null,
            "max_height": null,
            "max_width": null,
            "min_height": null,
            "min_width": null,
            "object_fit": null,
            "object_position": null,
            "order": null,
            "overflow": null,
            "overflow_x": null,
            "overflow_y": null,
            "padding": null,
            "right": null,
            "top": null,
            "visibility": null,
            "width": null
          }
        },
        "85889d6581934bccb6c5f8a1b9e06cd1": {
          "model_module": "@jupyter-widgets/controls",
          "model_name": "ProgressStyleModel",
          "model_module_version": "1.5.0",
          "state": {
            "_model_module": "@jupyter-widgets/controls",
            "_model_module_version": "1.5.0",
            "_model_name": "ProgressStyleModel",
            "_view_count": null,
            "_view_module": "@jupyter-widgets/base",
            "_view_module_version": "1.2.0",
            "_view_name": "StyleView",
            "bar_color": null,
            "description_width": ""
          }
        },
        "2d1449ae04644c62bd9f1e6f7fb0eb17": {
          "model_module": "@jupyter-widgets/base",
          "model_name": "LayoutModel",
          "model_module_version": "1.2.0",
          "state": {
            "_model_module": "@jupyter-widgets/base",
            "_model_module_version": "1.2.0",
            "_model_name": "LayoutModel",
            "_view_count": null,
            "_view_module": "@jupyter-widgets/base",
            "_view_module_version": "1.2.0",
            "_view_name": "LayoutView",
            "align_content": null,
            "align_items": null,
            "align_self": null,
            "border": null,
            "bottom": null,
            "display": null,
            "flex": null,
            "flex_flow": null,
            "grid_area": null,
            "grid_auto_columns": null,
            "grid_auto_flow": null,
            "grid_auto_rows": null,
            "grid_column": null,
            "grid_gap": null,
            "grid_row": null,
            "grid_template_areas": null,
            "grid_template_columns": null,
            "grid_template_rows": null,
            "height": null,
            "justify_content": null,
            "justify_items": null,
            "left": null,
            "margin": null,
            "max_height": null,
            "max_width": null,
            "min_height": null,
            "min_width": null,
            "object_fit": null,
            "object_position": null,
            "order": null,
            "overflow": null,
            "overflow_x": null,
            "overflow_y": null,
            "padding": null,
            "right": null,
            "top": null,
            "visibility": null,
            "width": null
          }
        },
        "8c02189859e2468db02a4ca1a1b85710": {
          "model_module": "@jupyter-widgets/controls",
          "model_name": "DescriptionStyleModel",
          "model_module_version": "1.5.0",
          "state": {
            "_model_module": "@jupyter-widgets/controls",
            "_model_module_version": "1.5.0",
            "_model_name": "DescriptionStyleModel",
            "_view_count": null,
            "_view_module": "@jupyter-widgets/base",
            "_view_module_version": "1.2.0",
            "_view_name": "StyleView",
            "description_width": ""
          }
        },
        "27e4d83a76ba458b8a3b05fb64d7426b": {
          "model_module": "@jupyter-widgets/controls",
          "model_name": "HBoxModel",
          "model_module_version": "1.5.0",
          "state": {
            "_dom_classes": [],
            "_model_module": "@jupyter-widgets/controls",
            "_model_module_version": "1.5.0",
            "_model_name": "HBoxModel",
            "_view_count": null,
            "_view_module": "@jupyter-widgets/controls",
            "_view_module_version": "1.5.0",
            "_view_name": "HBoxView",
            "box_style": "",
            "children": [
              "IPY_MODEL_75bfd68060db4f2ca97c1db1aa0cf59f",
              "IPY_MODEL_67ec3503d74f421d900ed2748e70b3f1",
              "IPY_MODEL_d8adeccc2a1e47249ded61d49b27c8d8"
            ],
            "layout": "IPY_MODEL_f2c07e21177543bcbb06ae37e3fd49b1"
          }
        },
        "75bfd68060db4f2ca97c1db1aa0cf59f": {
          "model_module": "@jupyter-widgets/controls",
          "model_name": "HTMLModel",
          "model_module_version": "1.5.0",
          "state": {
            "_dom_classes": [],
            "_model_module": "@jupyter-widgets/controls",
            "_model_module_version": "1.5.0",
            "_model_name": "HTMLModel",
            "_view_count": null,
            "_view_module": "@jupyter-widgets/controls",
            "_view_module_version": "1.5.0",
            "_view_name": "HTMLView",
            "description": "",
            "description_tooltip": null,
            "layout": "IPY_MODEL_6db6bcf8c2564dd7936d417cf211ef02",
            "placeholder": "​",
            "style": "IPY_MODEL_d8102622d3c841798f61eda930a2440c",
            "value": "preprocessor_config.json: 100%"
          }
        },
        "67ec3503d74f421d900ed2748e70b3f1": {
          "model_module": "@jupyter-widgets/controls",
          "model_name": "FloatProgressModel",
          "model_module_version": "1.5.0",
          "state": {
            "_dom_classes": [],
            "_model_module": "@jupyter-widgets/controls",
            "_model_module_version": "1.5.0",
            "_model_name": "FloatProgressModel",
            "_view_count": null,
            "_view_module": "@jupyter-widgets/controls",
            "_view_module_version": "1.5.0",
            "_view_name": "ProgressView",
            "bar_style": "success",
            "description": "",
            "description_tooltip": null,
            "layout": "IPY_MODEL_f6e1d2735e1048b1b5cbc79db3706098",
            "max": 160,
            "min": 0,
            "orientation": "horizontal",
            "style": "IPY_MODEL_faf6554e29484ac7ab1822f0e68f87d0",
            "value": 160
          }
        },
        "d8adeccc2a1e47249ded61d49b27c8d8": {
          "model_module": "@jupyter-widgets/controls",
          "model_name": "HTMLModel",
          "model_module_version": "1.5.0",
          "state": {
            "_dom_classes": [],
            "_model_module": "@jupyter-widgets/controls",
            "_model_module_version": "1.5.0",
            "_model_name": "HTMLModel",
            "_view_count": null,
            "_view_module": "@jupyter-widgets/controls",
            "_view_module_version": "1.5.0",
            "_view_name": "HTMLView",
            "description": "",
            "description_tooltip": null,
            "layout": "IPY_MODEL_6cd7144fde2a466b934acc6049478784",
            "placeholder": "​",
            "style": "IPY_MODEL_2c1aeecb88be44a3b7f80614c3f427ab",
            "value": " 160/160 [00:00&lt;00:00, 10.4kB/s]"
          }
        },
        "f2c07e21177543bcbb06ae37e3fd49b1": {
          "model_module": "@jupyter-widgets/base",
          "model_name": "LayoutModel",
          "model_module_version": "1.2.0",
          "state": {
            "_model_module": "@jupyter-widgets/base",
            "_model_module_version": "1.2.0",
            "_model_name": "LayoutModel",
            "_view_count": null,
            "_view_module": "@jupyter-widgets/base",
            "_view_module_version": "1.2.0",
            "_view_name": "LayoutView",
            "align_content": null,
            "align_items": null,
            "align_self": null,
            "border": null,
            "bottom": null,
            "display": null,
            "flex": null,
            "flex_flow": null,
            "grid_area": null,
            "grid_auto_columns": null,
            "grid_auto_flow": null,
            "grid_auto_rows": null,
            "grid_column": null,
            "grid_gap": null,
            "grid_row": null,
            "grid_template_areas": null,
            "grid_template_columns": null,
            "grid_template_rows": null,
            "height": null,
            "justify_content": null,
            "justify_items": null,
            "left": null,
            "margin": null,
            "max_height": null,
            "max_width": null,
            "min_height": null,
            "min_width": null,
            "object_fit": null,
            "object_position": null,
            "order": null,
            "overflow": null,
            "overflow_x": null,
            "overflow_y": null,
            "padding": null,
            "right": null,
            "top": null,
            "visibility": null,
            "width": null
          }
        },
        "6db6bcf8c2564dd7936d417cf211ef02": {
          "model_module": "@jupyter-widgets/base",
          "model_name": "LayoutModel",
          "model_module_version": "1.2.0",
          "state": {
            "_model_module": "@jupyter-widgets/base",
            "_model_module_version": "1.2.0",
            "_model_name": "LayoutModel",
            "_view_count": null,
            "_view_module": "@jupyter-widgets/base",
            "_view_module_version": "1.2.0",
            "_view_name": "LayoutView",
            "align_content": null,
            "align_items": null,
            "align_self": null,
            "border": null,
            "bottom": null,
            "display": null,
            "flex": null,
            "flex_flow": null,
            "grid_area": null,
            "grid_auto_columns": null,
            "grid_auto_flow": null,
            "grid_auto_rows": null,
            "grid_column": null,
            "grid_gap": null,
            "grid_row": null,
            "grid_template_areas": null,
            "grid_template_columns": null,
            "grid_template_rows": null,
            "height": null,
            "justify_content": null,
            "justify_items": null,
            "left": null,
            "margin": null,
            "max_height": null,
            "max_width": null,
            "min_height": null,
            "min_width": null,
            "object_fit": null,
            "object_position": null,
            "order": null,
            "overflow": null,
            "overflow_x": null,
            "overflow_y": null,
            "padding": null,
            "right": null,
            "top": null,
            "visibility": null,
            "width": null
          }
        },
        "d8102622d3c841798f61eda930a2440c": {
          "model_module": "@jupyter-widgets/controls",
          "model_name": "DescriptionStyleModel",
          "model_module_version": "1.5.0",
          "state": {
            "_model_module": "@jupyter-widgets/controls",
            "_model_module_version": "1.5.0",
            "_model_name": "DescriptionStyleModel",
            "_view_count": null,
            "_view_module": "@jupyter-widgets/base",
            "_view_module_version": "1.2.0",
            "_view_name": "StyleView",
            "description_width": ""
          }
        },
        "f6e1d2735e1048b1b5cbc79db3706098": {
          "model_module": "@jupyter-widgets/base",
          "model_name": "LayoutModel",
          "model_module_version": "1.2.0",
          "state": {
            "_model_module": "@jupyter-widgets/base",
            "_model_module_version": "1.2.0",
            "_model_name": "LayoutModel",
            "_view_count": null,
            "_view_module": "@jupyter-widgets/base",
            "_view_module_version": "1.2.0",
            "_view_name": "LayoutView",
            "align_content": null,
            "align_items": null,
            "align_self": null,
            "border": null,
            "bottom": null,
            "display": null,
            "flex": null,
            "flex_flow": null,
            "grid_area": null,
            "grid_auto_columns": null,
            "grid_auto_flow": null,
            "grid_auto_rows": null,
            "grid_column": null,
            "grid_gap": null,
            "grid_row": null,
            "grid_template_areas": null,
            "grid_template_columns": null,
            "grid_template_rows": null,
            "height": null,
            "justify_content": null,
            "justify_items": null,
            "left": null,
            "margin": null,
            "max_height": null,
            "max_width": null,
            "min_height": null,
            "min_width": null,
            "object_fit": null,
            "object_position": null,
            "order": null,
            "overflow": null,
            "overflow_x": null,
            "overflow_y": null,
            "padding": null,
            "right": null,
            "top": null,
            "visibility": null,
            "width": null
          }
        },
        "faf6554e29484ac7ab1822f0e68f87d0": {
          "model_module": "@jupyter-widgets/controls",
          "model_name": "ProgressStyleModel",
          "model_module_version": "1.5.0",
          "state": {
            "_model_module": "@jupyter-widgets/controls",
            "_model_module_version": "1.5.0",
            "_model_name": "ProgressStyleModel",
            "_view_count": null,
            "_view_module": "@jupyter-widgets/base",
            "_view_module_version": "1.2.0",
            "_view_name": "StyleView",
            "bar_color": null,
            "description_width": ""
          }
        },
        "6cd7144fde2a466b934acc6049478784": {
          "model_module": "@jupyter-widgets/base",
          "model_name": "LayoutModel",
          "model_module_version": "1.2.0",
          "state": {
            "_model_module": "@jupyter-widgets/base",
            "_model_module_version": "1.2.0",
            "_model_name": "LayoutModel",
            "_view_count": null,
            "_view_module": "@jupyter-widgets/base",
            "_view_module_version": "1.2.0",
            "_view_name": "LayoutView",
            "align_content": null,
            "align_items": null,
            "align_self": null,
            "border": null,
            "bottom": null,
            "display": null,
            "flex": null,
            "flex_flow": null,
            "grid_area": null,
            "grid_auto_columns": null,
            "grid_auto_flow": null,
            "grid_auto_rows": null,
            "grid_column": null,
            "grid_gap": null,
            "grid_row": null,
            "grid_template_areas": null,
            "grid_template_columns": null,
            "grid_template_rows": null,
            "height": null,
            "justify_content": null,
            "justify_items": null,
            "left": null,
            "margin": null,
            "max_height": null,
            "max_width": null,
            "min_height": null,
            "min_width": null,
            "object_fit": null,
            "object_position": null,
            "order": null,
            "overflow": null,
            "overflow_x": null,
            "overflow_y": null,
            "padding": null,
            "right": null,
            "top": null,
            "visibility": null,
            "width": null
          }
        },
        "2c1aeecb88be44a3b7f80614c3f427ab": {
          "model_module": "@jupyter-widgets/controls",
          "model_name": "DescriptionStyleModel",
          "model_module_version": "1.5.0",
          "state": {
            "_model_module": "@jupyter-widgets/controls",
            "_model_module_version": "1.5.0",
            "_model_name": "DescriptionStyleModel",
            "_view_count": null,
            "_view_module": "@jupyter-widgets/base",
            "_view_module_version": "1.2.0",
            "_view_name": "StyleView",
            "description_width": ""
          }
        }
      }
    }
  },
  "cells": [
    {
      "cell_type": "markdown",
      "source": [
        "# **Import Libraries**"
      ],
      "metadata": {
        "id": "BJC3f6DgMOT7"
      }
    },
    {
      "cell_type": "code",
      "execution_count": 1,
      "metadata": {
        "colab": {
          "base_uri": "https://localhost:8080/"
        },
        "id": "dvGbHLY1FWGz",
        "outputId": "580fe5c3-f17c-4e6c-e04c-324ca32ba5b7"
      },
      "outputs": [
        {
          "output_type": "stream",
          "name": "stdout",
          "text": [
            "Collecting lime\n",
            "  Downloading lime-0.2.0.1.tar.gz (275 kB)\n",
            "\u001b[?25l     \u001b[90m━━━━━━━━━━━━━━━━━━━━━━━━━━━━━━━━━━━━━━━━\u001b[0m \u001b[32m0.0/275.7 kB\u001b[0m \u001b[31m?\u001b[0m eta \u001b[36m-:--:--\u001b[0m\r\u001b[2K     \u001b[91m━━━━━━━━━━━━━━━━━━━━━━━\u001b[0m\u001b[90m╺\u001b[0m\u001b[90m━━━━━━━━━━━━━━━\u001b[0m \u001b[32m163.8/275.7 kB\u001b[0m \u001b[31m4.7 MB/s\u001b[0m eta \u001b[36m0:00:01\u001b[0m\r\u001b[2K     \u001b[90m━━━━━━━━━━━━━━━━━━━━━━━━━━━━━━━━━━━━━━━\u001b[0m \u001b[32m275.7/275.7 kB\u001b[0m \u001b[31m5.2 MB/s\u001b[0m eta \u001b[36m0:00:00\u001b[0m\n",
            "\u001b[?25h  Preparing metadata (setup.py) ... \u001b[?25l\u001b[?25hdone\n",
            "Requirement already satisfied: matplotlib in /usr/local/lib/python3.11/dist-packages (from lime) (3.10.0)\n",
            "Requirement already satisfied: numpy in /usr/local/lib/python3.11/dist-packages (from lime) (2.0.2)\n",
            "Requirement already satisfied: scipy in /usr/local/lib/python3.11/dist-packages (from lime) (1.14.1)\n",
            "Requirement already satisfied: tqdm in /usr/local/lib/python3.11/dist-packages (from lime) (4.67.1)\n",
            "Requirement already satisfied: scikit-learn>=0.18 in /usr/local/lib/python3.11/dist-packages (from lime) (1.6.1)\n",
            "Requirement already satisfied: scikit-image>=0.12 in /usr/local/lib/python3.11/dist-packages (from lime) (0.25.2)\n",
            "Requirement already satisfied: networkx>=3.0 in /usr/local/lib/python3.11/dist-packages (from scikit-image>=0.12->lime) (3.4.2)\n",
            "Requirement already satisfied: pillow>=10.1 in /usr/local/lib/python3.11/dist-packages (from scikit-image>=0.12->lime) (11.1.0)\n",
            "Requirement already satisfied: imageio!=2.35.0,>=2.33 in /usr/local/lib/python3.11/dist-packages (from scikit-image>=0.12->lime) (2.37.0)\n",
            "Requirement already satisfied: tifffile>=2022.8.12 in /usr/local/lib/python3.11/dist-packages (from scikit-image>=0.12->lime) (2025.3.30)\n",
            "Requirement already satisfied: packaging>=21 in /usr/local/lib/python3.11/dist-packages (from scikit-image>=0.12->lime) (24.2)\n",
            "Requirement already satisfied: lazy-loader>=0.4 in /usr/local/lib/python3.11/dist-packages (from scikit-image>=0.12->lime) (0.4)\n",
            "Requirement already satisfied: joblib>=1.2.0 in /usr/local/lib/python3.11/dist-packages (from scikit-learn>=0.18->lime) (1.4.2)\n",
            "Requirement already satisfied: threadpoolctl>=3.1.0 in /usr/local/lib/python3.11/dist-packages (from scikit-learn>=0.18->lime) (3.6.0)\n",
            "Requirement already satisfied: contourpy>=1.0.1 in /usr/local/lib/python3.11/dist-packages (from matplotlib->lime) (1.3.2)\n",
            "Requirement already satisfied: cycler>=0.10 in /usr/local/lib/python3.11/dist-packages (from matplotlib->lime) (0.12.1)\n",
            "Requirement already satisfied: fonttools>=4.22.0 in /usr/local/lib/python3.11/dist-packages (from matplotlib->lime) (4.57.0)\n",
            "Requirement already satisfied: kiwisolver>=1.3.1 in /usr/local/lib/python3.11/dist-packages (from matplotlib->lime) (1.4.8)\n",
            "Requirement already satisfied: pyparsing>=2.3.1 in /usr/local/lib/python3.11/dist-packages (from matplotlib->lime) (3.2.3)\n",
            "Requirement already satisfied: python-dateutil>=2.7 in /usr/local/lib/python3.11/dist-packages (from matplotlib->lime) (2.8.2)\n",
            "Requirement already satisfied: six>=1.5 in /usr/local/lib/python3.11/dist-packages (from python-dateutil>=2.7->matplotlib->lime) (1.17.0)\n",
            "Building wheels for collected packages: lime\n",
            "  Building wheel for lime (setup.py) ... \u001b[?25l\u001b[?25hdone\n",
            "  Created wheel for lime: filename=lime-0.2.0.1-py3-none-any.whl size=283834 sha256=459c03cd5db40e631c490246b9c51236eb7bbcd508662c3fd5e619839bd0f82e\n",
            "  Stored in directory: /root/.cache/pip/wheels/85/fa/a3/9c2d44c9f3cd77cf4e533b58900b2bf4487f2a17e8ec212a3d\n",
            "Successfully built lime\n",
            "Installing collected packages: lime\n",
            "Successfully installed lime-0.2.0.1\n"
          ]
        }
      ],
      "source": [
        "!pip install lime"
      ]
    },
    {
      "cell_type": "code",
      "source": [
        "import os\n",
        "from tensorflow.keras.preprocessing.image import load_img, img_to_array\n",
        "from tensorflow.keras.preprocessing.image import ImageDataGenerator\n",
        "import numpy as np\n",
        "import tensorflow as tf\n",
        "from tensorflow.keras import layers, models\n",
        "from tensorflow.keras.preprocessing.image import load_img, img_to_array\n",
        "import tensorflow as tf\n",
        "from tensorflow.keras import layers, models\n",
        "import torch\n",
        "from tqdm import tqdm\n",
        "from tensorflow.keras import models\n",
        "from tensorflow.keras.preprocessing.image import load_img, img_to_array\n",
        "from tensorflow.keras.applications import ResNet50\n",
        "from tensorflow.keras import layers, models\n",
        "from tensorflow.keras.applications import ResNet50\n",
        "from tensorflow.keras import layers, models\n",
        "import tensorflow as tf\n",
        "from lime.lime_tabular import LimeTabularExplainer\n",
        "import numpy as np\n",
        "import lime\n",
        "import lime.lime_tabular\n",
        "from tensorflow.keras import models\n",
        "from tensorflow.keras.applications import VGG16\n",
        "from tensorflow.keras.models import Model\n",
        "from tensorflow.keras import layers\n",
        "from sklearn.svm import SVC\n",
        "from sklearn.model_selection import train_test_split\n",
        "from sklearn.metrics import accuracy_score\n",
        "from sklearn.model_selection import GridSearchCV\n",
        "from tensorflow.keras.applications import DenseNet121\n",
        "from tensorflow.keras import layers, models\n",
        "from tensorflow.keras.preprocessing.image import ImageDataGenerator\n",
        "from tensorflow.keras.applications.densenet import preprocess_input\n",
        "import tensorflow as tf\n",
        "import torch\n",
        "from transformers import ViTForImageClassification, ViTFeatureExtractor\n",
        "from torch.utils.data import DataLoader, Dataset\n",
        "from sklearn.model_selection import train_test_split\n",
        "from torchvision import transforms\n",
        "from tensorflow.keras.preprocessing.image import img_to_array, load_img\n",
        "from torch.optim import AdamW\n",
        "from torch.nn import CrossEntropyLoss\n",
        "from tqdm import tqdm\n",
        "import shap\n",
        "import tensorflow as tf\n",
        "from tensorflow.keras import models\n",
        "import torch.nn.functional as F"
      ],
      "metadata": {
        "id": "DH6DeHcFFc4k"
      },
      "execution_count": 2,
      "outputs": []
    },
    {
      "cell_type": "markdown",
      "source": [
        "# **Define Dataset Directories**"
      ],
      "metadata": {
        "id": "xLlvnhg_MVpI"
      }
    },
    {
      "cell_type": "code",
      "source": [
        "kaggle_data_path = '/content/drive/MyDrive/Machine Learning-2 [Journal Draft]/Arafat Hossain Ankon (212-25-744)/Dataset/Kaggel/'\n",
        "mendeley_data_path = '/content/drive/MyDrive/Machine Learning-2 [Journal Draft]/Arafat Hossain Ankon (212-25-744)/Dataset/Mendly Dataset/'\n"
      ],
      "metadata": {
        "id": "X2xSRWLbFfPA"
      },
      "execution_count": 3,
      "outputs": []
    },
    {
      "cell_type": "markdown",
      "source": [
        "# **Load kaggle Cancer Images**"
      ],
      "metadata": {
        "id": "-tiUDvx2MYPR"
      }
    },
    {
      "cell_type": "code",
      "source": [
        "cancer_images = []  # List to store cancer image arrays\n",
        "cancer_image_path = os.path.join(kaggle_data_path, 'Cancer')  # Path to the 'Cancer' folder\n",
        "\n",
        "for filename in os.listdir(cancer_image_path):\n",
        "    if filename.endswith(('.jpg', '.jpeg', '.png')):  # Check if it's an image file\n",
        "        img_path = os.path.join(cancer_image_path, filename)\n",
        "        img = load_img(img_path)\n",
        "        img_array = img_to_array(img)\n",
        "        cancer_images.append(img_array)"
      ],
      "metadata": {
        "colab": {
          "base_uri": "https://localhost:8080/"
        },
        "id": "K24dx4NKFn6d",
        "outputId": "1a0c0289-a690-4f8a-ee2b-6380210bd18f"
      },
      "execution_count": 4,
      "outputs": [
        {
          "output_type": "stream",
          "name": "stderr",
          "text": [
            "/usr/local/lib/python3.11/dist-packages/PIL/Image.py:1045: UserWarning: Palette images with Transparency expressed in bytes should be converted to RGBA images\n",
            "  warnings.warn(\n"
          ]
        }
      ]
    },
    {
      "cell_type": "markdown",
      "source": [
        "# **Load kaggle Non-Cancer Images**"
      ],
      "metadata": {
        "id": "C_UHf3xpMc_r"
      }
    },
    {
      "cell_type": "code",
      "source": [
        "non_cancer_images = []  # List to store non-cancer image arrays\n",
        "non_cancer_image_path = os.path.join(kaggle_data_path, 'Non-Cancer')  # Path to the 'Non-Cancer' folder\n",
        "\n",
        "for filename in os.listdir(non_cancer_image_path):\n",
        "    if filename.endswith(('.jpg', '.jpeg', '.png')):  # Check if it's an image file\n",
        "        img_path = os.path.join(non_cancer_image_path, filename)\n",
        "        img = load_img(img_path)\n",
        "        img_array = img_to_array(img)\n",
        "        non_cancer_images.append(img_array)"
      ],
      "metadata": {
        "id": "FVaeojU5Fryl"
      },
      "execution_count": 5,
      "outputs": []
    },
    {
      "cell_type": "markdown",
      "source": [
        "# **Print Summary of Loaded Data**\n",
        "\n"
      ],
      "metadata": {
        "id": "TRCThOaeMijy"
      }
    },
    {
      "cell_type": "code",
      "source": [
        "print(f\"Loaded {len(cancer_images)} cancer images\")\n",
        "print(f\"Loaded {len(non_cancer_images)} non-cancer images\")"
      ],
      "metadata": {
        "colab": {
          "base_uri": "https://localhost:8080/"
        },
        "id": "oSjzovM_FsTx",
        "outputId": "99fc0707-b3f5-47ae-b834-57171f4c3077"
      },
      "execution_count": 6,
      "outputs": [
        {
          "output_type": "stream",
          "name": "stdout",
          "text": [
            "Loaded 82 cancer images\n",
            "Loaded 41 non-cancer images\n"
          ]
        }
      ]
    },
    {
      "cell_type": "markdown",
      "source": [
        "# **Kaggle Data Preprocessing**"
      ],
      "metadata": {
        "id": "OW3OHCW4Mlkw"
      }
    },
    {
      "cell_type": "code",
      "source": [
        "# Resize all images to the same shape\n",
        "img_height, img_width = 224, 224  # Modify as needed\n",
        "\n",
        "# -------------------- Image Preprocessing Function --------------------\n",
        "\n",
        "def preprocess_image(image_path):\n",
        "    image = load_img(image_path, target_size=(img_height, img_width))\n",
        "    image_array = img_to_array(image)\n",
        "    image_array = image_array / 255.0  # Normalize pixel values between 0 and 1\n",
        "    return image_array\n",
        "\n",
        "# -------------------- Process Cancer Images --------------------\n",
        "\n",
        "processed_cancer_images = []\n",
        "for img_path in os.listdir(cancer_image_path):  # loop through image paths directly\n",
        "    if img_path.endswith(('.jpg', '.jpeg', '.png')):\n",
        "        full_img_path = os.path.join(cancer_image_path, img_path)\n",
        "        processed_cancer_images.append(preprocess_image(full_img_path))\n",
        "\n",
        "# -------------------- Process Non-Cancer Images --------------------\n",
        "\n",
        "processed_non_cancer_images = []\n",
        "for img_path in os.listdir(non_cancer_image_path):  # loop through image paths directly\n",
        "    if img_path.endswith(('.jpg', '.jpeg', '.png')):\n",
        "        full_img_path = os.path.join(non_cancer_image_path, img_path)\n",
        "        processed_non_cancer_images.append(preprocess_image(full_img_path))\n",
        "\n",
        "# -------------------- Convert Lists to NumPy Arrays --------------------\n",
        "\n",
        "cancer_images_array = np.array(processed_cancer_images)\n",
        "non_cancer_images_array = np.array(processed_non_cancer_images)\n",
        "\n",
        "# -------------------- Output Summary --------------------\n",
        "\n",
        "print(f\"Processed {len(cancer_images_array)} cancer images.\")\n",
        "print(f\"Processed {len(non_cancer_images_array)} non-cancer images.\")\n"
      ],
      "metadata": {
        "colab": {
          "base_uri": "https://localhost:8080/"
        },
        "id": "-FQjiyRBFuep",
        "outputId": "526622a1-44fd-48ed-f9f0-80d148618bcf"
      },
      "execution_count": 7,
      "outputs": [
        {
          "output_type": "stream",
          "name": "stdout",
          "text": [
            "Processed 82 cancer images.\n",
            "Processed 41 non-cancer images.\n"
          ]
        }
      ]
    },
    {
      "cell_type": "markdown",
      "source": [
        "# **Kaggle Data Augmentation**"
      ],
      "metadata": {
        "id": "njf-QzZwMpLk"
      }
    },
    {
      "cell_type": "code",
      "source": [
        "# ============================\n",
        "# Create ImageDataGenerator for Augmentation\n",
        "# ============================\n",
        "datagen = ImageDataGenerator(\n",
        "    rotation_range=20,\n",
        "    width_shift_range=0.2,\n",
        "    height_shift_range=0.2,\n",
        "    shear_range=0.2,\n",
        "    zoom_range=0.2,\n",
        "    horizontal_flip=True,\n",
        "    fill_mode='nearest'\n",
        ")\n",
        "\n",
        "# ============================\n",
        "# Define Image Augmentation Function\n",
        "# ============================\n",
        "def augment_images(image_array, batch_size=1, num_augmented_images=5):\n",
        "    # Reshape the image array to (batch_size, height, width, channels)\n",
        "    image_array = image_array.reshape((1, img_height, img_width, 3))  # Reshape for augmentation\n",
        "    augmented_images = []\n",
        "\n",
        "    # Generate augmented images\n",
        "    augmented_batch = datagen.flow(image_array, batch_size=batch_size)\n",
        "    for augmented_image in augmented_batch:\n",
        "        augmented_image = augmented_image[0].astype('float32')\n",
        "        augmented_images.append(augmented_image)\n",
        "        if len(augmented_images) == num_augmented_images:\n",
        "            break  # Stop after generating the desired number of augmented images\n",
        "\n",
        "    return np.array(augmented_images)\n",
        "\n",
        "# ============================\n",
        "# Augment Cancer Images\n",
        "# ============================\n",
        "augmented_cancer_images = []\n",
        "for img_array in cancer_images_array:\n",
        "    augmented_cancer_images.extend(augment_images(img_array, batch_size=1, num_augmented_images=5))\n",
        "\n",
        "# ============================\n",
        "# Augment Non-Cancer Images\n",
        "# ============================\n",
        "augmented_non_cancer_images = []\n",
        "for img_array in non_cancer_images_array:\n",
        "    augmented_non_cancer_images.extend(augment_images(img_array, batch_size=1, num_augmented_images=5))\n",
        "\n",
        "# ============================\n",
        "# Convert to NumPy Arrays\n",
        "# ============================\n",
        "augmented_cancer_images = np.array(augmented_cancer_images)\n",
        "augmented_non_cancer_images = np.array(augmented_non_cancer_images)\n",
        "\n",
        "# ============================\n",
        "# Display Summary\n",
        "# ============================\n",
        "print(f\"Generated {len(augmented_cancer_images)} augmented cancer images.\")\n",
        "print(f\"Generated {len(augmented_non_cancer_images)} augmented non-cancer images.\")\n"
      ],
      "metadata": {
        "colab": {
          "base_uri": "https://localhost:8080/"
        },
        "id": "Wltg7Mm0Fwq0",
        "outputId": "ba0375c3-b4fe-4c67-a52b-3c177f90b935"
      },
      "execution_count": 8,
      "outputs": [
        {
          "output_type": "stream",
          "name": "stdout",
          "text": [
            "Generated 410 augmented cancer images.\n",
            "Generated 205 augmented non-cancer images.\n"
          ]
        }
      ]
    },
    {
      "cell_type": "markdown",
      "source": [
        "# **Mendely Dataset**"
      ],
      "metadata": {
        "id": "qNBJ-EvcMsp9"
      }
    },
    {
      "cell_type": "code",
      "source": [
        "# --------------------------- #\n",
        "# Define Image Preprocessing Function\n",
        "# --------------------------- #\n",
        "def preprocess_image(image_path):\n",
        "    image = load_img(image_path, target_size=(img_height, img_width))  # Resize image\n",
        "    image_array = img_to_array(image)  # Convert image to array\n",
        "    image_array = image_array / 255.0  # Normalize image values between 0 and 1\n",
        "    return image_array\n",
        "\n",
        "# --------------------------- #\n",
        "# Define Paths for Mendeley Dataset\n",
        "# --------------------------- #\n",
        "augmented_benign_path = os.path.join(mendeley_data_path, 'augmented_data/augmented_benign/')\n",
        "augmented_malignant_path = os.path.join(mendeley_data_path, 'augmented_data/augmented_malignant/')\n",
        "original_benign_path = os.path.join(mendeley_data_path, 'original_data/benign_lesions/')\n",
        "original_malignant_path = os.path.join(mendeley_data_path, 'original_data/malignant_lesions/')\n",
        "\n",
        "\n",
        "# --------------------------- #\n",
        "# Initialize Lists to Store Images\n",
        "# --------------------------- #\n",
        "augmented_benign_images = []\n",
        "augmented_malignant_images = []\n",
        "original_benign_images = []\n",
        "original_malignant_images = []\n",
        "\n",
        "# --------------------------- #\n",
        "# Load and Preprocess Augmented Benign Images\n",
        "# --------------------------- #\n",
        "for fname in os.listdir(augmented_benign_path):\n",
        "    if fname.endswith(('.jpg', '.jpeg', '.png')):  # Check for image file types\n",
        "        img_path = os.path.join(augmented_benign_path, fname)\n",
        "        augmented_benign_images.append(preprocess_image(img_path))\n",
        "\n",
        "# --------------------------- #\n",
        "# Load and Preprocess Augmented Malignant Images\n",
        "# --------------------------- #\n",
        "for fname in os.listdir(augmented_malignant_path):\n",
        "    if fname.endswith(('.jpg', '.jpeg', '.png')):  # Check for image file types\n",
        "        img_path = os.path.join(augmented_malignant_path, fname)\n",
        "        augmented_malignant_images.append(preprocess_image(img_path))\n",
        "\n",
        "# --------------------------- #\n",
        "# Load and Preprocess Original Benign Images\n",
        "# --------------------------- #\n",
        "for fname in os.listdir(original_benign_path):\n",
        "    if fname.endswith(('.jpg', '.jpeg', '.png')):  # Check for image file types\n",
        "        img_path = os.path.join(original_benign_path, fname)\n",
        "        original_benign_images.append(preprocess_image(img_path))\n",
        "\n",
        "# --------------------------- #\n",
        "# Load and Preprocess Original Malignant Images\n",
        "# --------------------------- #\n",
        "for fname in os.listdir(original_malignant_path):\n",
        "    if fname.endswith(('.jpg', '.jpeg', '.png')):  # Check for image file types\n",
        "        img_path = os.path.join(original_malignant_path, fname)\n",
        "        original_malignant_images.append(preprocess_image(img_path))\n",
        "\n",
        "# --------------------------- #\n",
        "# Convert Lists to NumPy Arrays\n",
        "# --------------------------- #\n",
        "augmented_benign_images = np.array(augmented_benign_images)\n",
        "augmented_malignant_images = np.array(augmented_malignant_images)\n",
        "original_benign_images = np.array(original_benign_images)\n",
        "original_malignant_images = np.array(original_malignant_images)\n",
        "\n",
        "# --------------------------- #\n",
        "# Print the Number of Images Loaded\n",
        "# --------------------------- #\n",
        "print(f\"Loaded {len(augmented_benign_images)} augmented benign images\")\n",
        "print(f\"Loaded {len(augmented_malignant_images)} augmented malignant images\")\n",
        "print(f\"Loaded {len(original_benign_images)} original benign images\")\n",
        "print(f\"Loaded {len(original_malignant_images)} original malignant images\")\n"
      ],
      "metadata": {
        "colab": {
          "base_uri": "https://localhost:8080/"
        },
        "id": "mmLyQZSdFz76",
        "outputId": "b6e2da71-75fc-41ea-a6bd-cf356eefd65d"
      },
      "execution_count": 9,
      "outputs": [
        {
          "output_type": "stream",
          "name": "stdout",
          "text": [
            "Loaded 1155 augmented benign images\n",
            "Loaded 1115 augmented malignant images\n",
            "Loaded 165 original benign images\n",
            "Loaded 158 original malignant images\n"
          ]
        }
      ]
    },
    {
      "cell_type": "markdown",
      "source": [
        "# **Create Hybrid Dataset [Kaggle + Mendely]**"
      ],
      "metadata": {
        "id": "O_iF4u_aMvsR"
      }
    },
    {
      "cell_type": "code",
      "source": [
        "# -----------------------------\n",
        "# Check the number of images in each list\n",
        "# -----------------------------\n",
        "print(f\"Augmented benign images: {len(augmented_benign_images)} images\")\n",
        "print(f\"Augmented malignant images: {len(augmented_malignant_images)} images\")\n",
        "print(f\"Original benign images: {len(original_benign_images)} images\")\n",
        "print(f\"Original malignant images: {len(original_malignant_images)} images\")\n",
        "print(f\"Cancer images: {len(cancer_images)} images\")\n",
        "print(f\"Non-cancer images: {len(non_cancer_images)} images\")\n",
        "\n",
        "# -----------------------------\n",
        "# Validate that each list is not empty\n",
        "# -----------------------------\n",
        "if len(augmented_benign_images) == 0:\n",
        "    print(\"Error: No images loaded from augmented benign directory.\")\n",
        "if len(augmented_malignant_images) == 0:\n",
        "    print(\"Error: No images loaded from augmented malignant directory.\")\n",
        "if len(original_benign_images) == 0:\n",
        "    print(\"Error: No images loaded from original benign directory.\")\n",
        "if len(original_malignant_images) == 0:\n",
        "    print(\"Error: No images loaded from original malignant directory.\")\n",
        "if len(cancer_images) == 0:\n",
        "    print(\"Error: No cancer images loaded.\")\n",
        "if len(non_cancer_images) == 0:\n",
        "    print(\"Error: No non-cancer images loaded.\")\n",
        "\n",
        "# -----------------------------\n",
        "# Create the hybrid dataset\n",
        "# -----------------------------\n",
        "hybrid_data = []\n",
        "\n",
        "# -----------------------------\n",
        "# Define helper function to add non-empty image lists\n",
        "# -----------------------------\n",
        "def add_images_to_hybrid_data(image_list):\n",
        "    if len(image_list) > 0:\n",
        "        hybrid_data.extend(image_list)\n",
        "    else:\n",
        "        print(\"Warning: Empty image list, skipping.\")\n",
        "\n",
        "# -----------------------------\n",
        "# Add images to the hybrid dataset\n",
        "# -----------------------------\n",
        "add_images_to_hybrid_data(augmented_benign_images)\n",
        "add_images_to_hybrid_data(augmented_malignant_images)\n",
        "add_images_to_hybrid_data(original_benign_images)\n",
        "add_images_to_hybrid_data(original_malignant_images)\n",
        "add_images_to_hybrid_data(augmented_cancer_images)\n",
        "add_images_to_hybrid_data(augmented_non_cancer_images)\n",
        "\n",
        "# -----------------------------\n",
        "# Final check of the hybrid dataset size\n",
        "# -----------------------------\n",
        "print(f\"Total images in hybrid dataset: {len(hybrid_data)}\")\n"
      ],
      "metadata": {
        "colab": {
          "base_uri": "https://localhost:8080/"
        },
        "id": "2zyQxahoF1kB",
        "outputId": "7d20449e-b612-4311-897f-86200b91b930"
      },
      "execution_count": 10,
      "outputs": [
        {
          "output_type": "stream",
          "name": "stdout",
          "text": [
            "Augmented benign images: 1155 images\n",
            "Augmented malignant images: 1115 images\n",
            "Original benign images: 165 images\n",
            "Original malignant images: 158 images\n",
            "Cancer images: 82 images\n",
            "Non-cancer images: 41 images\n",
            "Total images in hybrid dataset: 3208\n"
          ]
        }
      ]
    },
    {
      "cell_type": "markdown",
      "source": [
        "# **Train Test Split**"
      ],
      "metadata": {
        "id": "0Aqj8B6aMzTa"
      }
    },
    {
      "cell_type": "code",
      "source": [
        "# -------------------- Step 1: Prepare Labels --------------------\n",
        "# Convert labels to NumPy array (0 for benign, 1 for malignant)\n",
        "labels = [0] * len(augmented_benign_images) + [1] * len(augmented_malignant_images) + \\\n",
        "         [0] * len(original_benign_images) + [1] * len(original_malignant_images) + \\\n",
        "         [1] * len(augmented_cancer_images) + [0] * len(augmented_non_cancer_images)\n",
        "\n",
        "# -------------------- Step 2: Split Dataset --------------------\n",
        "# Split the dataset into training and testing sets (80% train, 20% test)\n",
        "X_train, X_test, y_train, y_test = train_test_split(hybrid_data, labels, test_size=0.2, random_state=42)\n",
        "\n",
        "# -------------------- Step 3: Display Dataset Size --------------------\n",
        "print(f\"Training data: {len(X_train)} images, Testing data: {len(X_test)} images\")\n"
      ],
      "metadata": {
        "colab": {
          "base_uri": "https://localhost:8080/"
        },
        "id": "RbwvL3PsF36n",
        "outputId": "679f4497-f6bf-421d-cb1e-4e08d6f624b9"
      },
      "execution_count": 11,
      "outputs": [
        {
          "output_type": "stream",
          "name": "stdout",
          "text": [
            "Training data: 2566 images, Testing data: 642 images\n"
          ]
        }
      ]
    },
    {
      "cell_type": "markdown",
      "source": [
        "# **Vision Transformer AI Model**"
      ],
      "metadata": {
        "id": "tLvXMwGVM5op"
      }
    },
    {
      "cell_type": "code",
      "source": [
        "# ----------------------------\n",
        "# Load Pre-trained ViT Model and Feature Extractor\n",
        "# ----------------------------\n",
        "model_name = \"google/vit-base-patch16-224-in21k\"\n",
        "model = ViTForImageClassification.from_pretrained(model_name, num_labels=2)  # 2 labels: cancer and non-cancer\n",
        "feature_extractor = ViTFeatureExtractor.from_pretrained(model_name)\n",
        "\n",
        "# ----------------------------\n",
        "# Set Device (GPU or CPU)\n",
        "# ----------------------------\n",
        "device = torch.device(\"cuda\" if torch.cuda.is_available() else \"cpu\")\n",
        "model.to(device)"
      ],
      "metadata": {
        "colab": {
          "base_uri": "https://localhost:8080/",
          "height": 984,
          "referenced_widgets": [
            "c25db1929c464f609b43ac65bb8766cd",
            "2a76779af5c642a4baaffca50d08ad88",
            "9cb0432eb19c4c918c129fd4b7fb39f4",
            "ee7db9c91fcf4571a71b88d24739a134",
            "64a77cfa36cc4557bacb44b9060eb07a",
            "6bac18a9020d4450a12c6e0de7581a77",
            "839f48e01e4f4d6eb84d2656e297e6d0",
            "5e2197d6210b4469aad73d6ce35afbb0",
            "5bfaa7e0ac6a42e39a963e1013e3456b",
            "b3d4f10a2be4438db62df0fbd1a8121d",
            "2204c0d4a75b4530824ccf943b9dc79f",
            "482b28c4c46b45b09d5a06cebdbd9c74",
            "6140b32595df451a88c1402bcf072c5a",
            "d0e85eeaca9442969aeae691988dc3c0",
            "100dd42d8244474d8e4edbbd5b5ea83f",
            "1ba42922377c4b8cbfbe36d2f2b3d85a",
            "43aa91117a614873a74127ace4514983",
            "acab09a85fb44cd7a3fcfde5b427d07c",
            "fd626efceb0040068205e13084feea23",
            "85889d6581934bccb6c5f8a1b9e06cd1",
            "2d1449ae04644c62bd9f1e6f7fb0eb17",
            "8c02189859e2468db02a4ca1a1b85710",
            "27e4d83a76ba458b8a3b05fb64d7426b",
            "75bfd68060db4f2ca97c1db1aa0cf59f",
            "67ec3503d74f421d900ed2748e70b3f1",
            "d8adeccc2a1e47249ded61d49b27c8d8",
            "f2c07e21177543bcbb06ae37e3fd49b1",
            "6db6bcf8c2564dd7936d417cf211ef02",
            "d8102622d3c841798f61eda930a2440c",
            "f6e1d2735e1048b1b5cbc79db3706098",
            "faf6554e29484ac7ab1822f0e68f87d0",
            "6cd7144fde2a466b934acc6049478784",
            "2c1aeecb88be44a3b7f80614c3f427ab"
          ]
        },
        "id": "FB_iIba7GBbx",
        "outputId": "7131a456-5088-4568-a699-75ea3399742b"
      },
      "execution_count": 12,
      "outputs": [
        {
          "output_type": "stream",
          "name": "stderr",
          "text": [
            "/usr/local/lib/python3.11/dist-packages/huggingface_hub/utils/_auth.py:94: UserWarning: \n",
            "The secret `HF_TOKEN` does not exist in your Colab secrets.\n",
            "To authenticate with the Hugging Face Hub, create a token in your settings tab (https://huggingface.co/settings/tokens), set it as secret in your Google Colab and restart your session.\n",
            "You will be able to reuse this secret in all of your notebooks.\n",
            "Please note that authentication is recommended but still optional to access public models or datasets.\n",
            "  warnings.warn(\n"
          ]
        },
        {
          "output_type": "display_data",
          "data": {
            "text/plain": [
              "config.json:   0%|          | 0.00/502 [00:00<?, ?B/s]"
            ],
            "application/vnd.jupyter.widget-view+json": {
              "version_major": 2,
              "version_minor": 0,
              "model_id": "c25db1929c464f609b43ac65bb8766cd"
            }
          },
          "metadata": {}
        },
        {
          "output_type": "display_data",
          "data": {
            "text/plain": [
              "model.safetensors:   0%|          | 0.00/346M [00:00<?, ?B/s]"
            ],
            "application/vnd.jupyter.widget-view+json": {
              "version_major": 2,
              "version_minor": 0,
              "model_id": "482b28c4c46b45b09d5a06cebdbd9c74"
            }
          },
          "metadata": {}
        },
        {
          "output_type": "stream",
          "name": "stderr",
          "text": [
            "Some weights of ViTForImageClassification were not initialized from the model checkpoint at google/vit-base-patch16-224-in21k and are newly initialized: ['classifier.bias', 'classifier.weight']\n",
            "You should probably TRAIN this model on a down-stream task to be able to use it for predictions and inference.\n"
          ]
        },
        {
          "output_type": "display_data",
          "data": {
            "text/plain": [
              "preprocessor_config.json:   0%|          | 0.00/160 [00:00<?, ?B/s]"
            ],
            "application/vnd.jupyter.widget-view+json": {
              "version_major": 2,
              "version_minor": 0,
              "model_id": "27e4d83a76ba458b8a3b05fb64d7426b"
            }
          },
          "metadata": {}
        },
        {
          "output_type": "stream",
          "name": "stderr",
          "text": [
            "/usr/local/lib/python3.11/dist-packages/transformers/models/vit/feature_extraction_vit.py:28: FutureWarning: The class ViTFeatureExtractor is deprecated and will be removed in version 5 of Transformers. Please use ViTImageProcessor instead.\n",
            "  warnings.warn(\n"
          ]
        },
        {
          "output_type": "execute_result",
          "data": {
            "text/plain": [
              "ViTForImageClassification(\n",
              "  (vit): ViTModel(\n",
              "    (embeddings): ViTEmbeddings(\n",
              "      (patch_embeddings): ViTPatchEmbeddings(\n",
              "        (projection): Conv2d(3, 768, kernel_size=(16, 16), stride=(16, 16))\n",
              "      )\n",
              "      (dropout): Dropout(p=0.0, inplace=False)\n",
              "    )\n",
              "    (encoder): ViTEncoder(\n",
              "      (layer): ModuleList(\n",
              "        (0-11): 12 x ViTLayer(\n",
              "          (attention): ViTAttention(\n",
              "            (attention): ViTSelfAttention(\n",
              "              (query): Linear(in_features=768, out_features=768, bias=True)\n",
              "              (key): Linear(in_features=768, out_features=768, bias=True)\n",
              "              (value): Linear(in_features=768, out_features=768, bias=True)\n",
              "            )\n",
              "            (output): ViTSelfOutput(\n",
              "              (dense): Linear(in_features=768, out_features=768, bias=True)\n",
              "              (dropout): Dropout(p=0.0, inplace=False)\n",
              "            )\n",
              "          )\n",
              "          (intermediate): ViTIntermediate(\n",
              "            (dense): Linear(in_features=768, out_features=3072, bias=True)\n",
              "            (intermediate_act_fn): GELUActivation()\n",
              "          )\n",
              "          (output): ViTOutput(\n",
              "            (dense): Linear(in_features=3072, out_features=768, bias=True)\n",
              "            (dropout): Dropout(p=0.0, inplace=False)\n",
              "          )\n",
              "          (layernorm_before): LayerNorm((768,), eps=1e-12, elementwise_affine=True)\n",
              "          (layernorm_after): LayerNorm((768,), eps=1e-12, elementwise_affine=True)\n",
              "        )\n",
              "      )\n",
              "    )\n",
              "    (layernorm): LayerNorm((768,), eps=1e-12, elementwise_affine=True)\n",
              "  )\n",
              "  (classifier): Linear(in_features=768, out_features=2, bias=True)\n",
              ")"
            ]
          },
          "metadata": {},
          "execution_count": 12
        }
      ]
    },
    {
      "cell_type": "code",
      "source": [
        "# ----------------------------\n",
        "# Function to preprocess an image for Vision Transformer (ViT)\n",
        "# ----------------------------\n",
        "def preprocess_image_vit(image_array):\n",
        "    # Preprocess the image for ViT, disabling rescaling\n",
        "    encoding = feature_extractor(images=image_array, return_tensors=\"pt\", do_rescale=False)\n",
        "    return encoding\n",
        "\n",
        "# ... (rest of the code) ...\n",
        "\n",
        "class CustomDataset(Dataset):\n",
        "    def __init__(self, image_arrays, labels, feature_extractor): # Change image_paths to image_arrays\n",
        "        self.image_arrays = image_arrays # Change image_paths to image_arrays\n",
        "        self.labels = labels\n",
        "        self.feature_extractor = feature_extractor\n",
        "\n",
        "    def __len__(self):\n",
        "        return len(self.image_arrays) # Change image_paths to image_arrays\n",
        "\n",
        "    def __getitem__(self, idx):\n",
        "        image_array = self.image_arrays[idx] # Change image_path to image_array and image_paths to image_arrays\n",
        "        label = self.labels[idx]\n",
        "        # Preprocess the image for ViT\n",
        "        encoding = preprocess_image_vit(image_array) # Pass image_array instead of image_path\n",
        "        return {**encoding, 'label': torch.tensor(label)}\n",
        "\n",
        "# ... (rest of the code) ...\n",
        "\n",
        "# Split dataset into training and testing sets\n",
        "train_arrays, test_arrays, train_labels, test_labels = train_test_split( # Change train_paths/test_paths to train_arrays/test_arrays\n",
        "    hybrid_data, labels, test_size=0.2, random_state=42\n",
        ")\n",
        "\n",
        "# Create DataLoader for training dataset\n",
        "train_dataset = CustomDataset(train_arrays, train_labels, feature_extractor) # Change train_paths to train_arrays\n",
        "train_loader = DataLoader(train_dataset, batch_size=8, shuffle=True)\n",
        "\n",
        "# Create DataLoader for testing dataset\n",
        "test_dataset = CustomDataset(test_arrays, test_labels, feature_extractor) # Change test_paths to test_arrays\n",
        "test_loader = DataLoader(test_dataset, batch_size=8, shuffle=False)"
      ],
      "metadata": {
        "id": "QT_0_7mIGChf"
      },
      "execution_count": 13,
      "outputs": []
    },
    {
      "cell_type": "code",
      "source": [
        "import torch\n",
        "import torch.nn.functional as F\n",
        "from torch.nn import CrossEntropyLoss\n",
        "from torch.optim import AdamW\n",
        "from tqdm import tqdm\n",
        "from sklearn.metrics import confusion_matrix, classification_report\n",
        "import matplotlib.pyplot as plt\n",
        "import seaborn as sns\n",
        "import numpy as np\n",
        "\n",
        "# ----------------------------\n",
        "# Optimizer and Loss Function\n",
        "# ----------------------------\n",
        "optimizer = AdamW(model.parameters(), lr=5e-5)\n",
        "loss_fn = CrossEntropyLoss()\n",
        "\n",
        "# ----------------------------\n",
        "# Initialize variables to track highest accuracies\n",
        "# ----------------------------\n",
        "best_val_accuracy = 0\n",
        "best_test_accuracy = 0\n",
        "best_preds = []\n",
        "best_labels = []\n",
        "\n",
        "# ----------------------------\n",
        "# Training Function\n",
        "# ----------------------------\n",
        "def train(model, train_loader, optimizer, loss_fn):\n",
        "    model.train()\n",
        "    total_loss = 0\n",
        "    correct_predictions = 0\n",
        "    total_predictions = 0\n",
        "\n",
        "    for batch in tqdm(train_loader):\n",
        "        optimizer.zero_grad()\n",
        "\n",
        "        pixel_values = batch['pixel_values'].to(device)\n",
        "        labels = batch['label'].to(device)\n",
        "\n",
        "        outputs = model(pixel_values=pixel_values.squeeze(1), labels=labels)\n",
        "        loss = outputs.loss\n",
        "        logits = outputs.logits\n",
        "\n",
        "        loss.backward()\n",
        "        optimizer.step()\n",
        "\n",
        "        total_loss += loss.item()\n",
        "        predictions = torch.argmax(F.softmax(logits, dim=1), dim=1)\n",
        "        correct_predictions += (predictions == labels).sum().item()\n",
        "        total_predictions += labels.size(0)\n",
        "\n",
        "    avg_loss = total_loss / len(train_loader)\n",
        "    accuracy = correct_predictions / total_predictions\n",
        "    return avg_loss, accuracy\n",
        "\n",
        "# ----------------------------\n",
        "# Evaluation Function\n",
        "# ----------------------------\n",
        "def evaluate(model, test_loader):\n",
        "    model.eval()\n",
        "    total_loss = 0\n",
        "    correct_predictions = 0\n",
        "    total_predictions = 0\n",
        "    all_preds = []\n",
        "    all_labels = []\n",
        "\n",
        "    with torch.no_grad():\n",
        "        for batch in tqdm(test_loader):\n",
        "            pixel_values = batch['pixel_values'].to(device)\n",
        "            labels = batch['label'].to(device)\n",
        "\n",
        "            outputs = model(pixel_values=pixel_values.squeeze(1), labels=labels)\n",
        "            loss = outputs.loss\n",
        "            logits = outputs.logits\n",
        "\n",
        "            total_loss += loss.item()\n",
        "            predictions = torch.argmax(F.softmax(logits, dim=1), dim=1)\n",
        "\n",
        "            correct_predictions += (predictions == labels).sum().item()\n",
        "            total_predictions += labels.size(0)\n",
        "\n",
        "            all_preds.extend(predictions.cpu().numpy())\n",
        "            all_labels.extend(labels.cpu().numpy())\n",
        "\n",
        "    avg_loss = total_loss / len(test_loader)\n",
        "    accuracy = correct_predictions / total_predictions\n",
        "    return avg_loss, accuracy, all_preds, all_labels\n",
        "\n",
        "# ----------------------------\n",
        "# Training Loop\n",
        "# ----------------------------\n",
        "for epoch in range(5):  # Update epochs as needed\n",
        "    train_loss, train_accuracy = train(model, train_loader, optimizer, loss_fn)\n",
        "    print(f\"Epoch {epoch + 1} - Loss: {train_loss:.4f}, Accuracy: {train_accuracy:.4f}\")\n",
        "\n",
        "    val_accuracy = train_accuracy  # Placeholder for actual validation logic\n",
        "    if val_accuracy > best_val_accuracy:\n",
        "        best_val_accuracy = val_accuracy\n",
        "\n",
        "    test_loss, test_accuracy, preds, labels = evaluate(model, test_loader)\n",
        "    print(f\"Test Loss: {test_loss:.4f}, Test Accuracy: {test_accuracy:.4f}\")\n",
        "\n",
        "    if test_accuracy > best_test_accuracy:\n",
        "        best_test_accuracy = test_accuracy\n",
        "        best_preds = preds\n",
        "        best_labels = labels\n",
        "\n",
        "# ----------------------------\n",
        "# Final Evaluation Metrics\n",
        "# ----------------------------\n",
        "print(f\"\\nHighest Validation Accuracy Achieved: {best_val_accuracy * 100:.2f}%\")\n",
        "print(f\"Highest Test Accuracy Achieved: {best_test_accuracy * 100:.2f}%\\n\")\n",
        "\n",
        "# Classification Report\n",
        "print(\"Classification Report:\")\n",
        "print(classification_report(best_labels, best_preds))\n",
        "\n",
        "# Confusion Matrix\n",
        "conf_mat = confusion_matrix(best_labels, best_preds)\n",
        "plt.figure(figsize=(10, 8))\n",
        "sns.heatmap(conf_mat, annot=True, fmt='d', cmap='Blues')\n",
        "plt.title(\"Confusion Matrix\")\n",
        "plt.xlabel(\"Predicted\")\n",
        "plt.ylabel(\"Actual\")\n",
        "plt.show()\n"
      ],
      "metadata": {
        "colab": {
          "base_uri": "https://localhost:8080/",
          "height": 1000
        },
        "id": "pbYWxvA5GFfC",
        "outputId": "80fa246d-9f61-43a9-90e8-2423b884d945"
      },
      "execution_count": 14,
      "outputs": [
        {
          "output_type": "stream",
          "name": "stderr",
          "text": [
            "100%|██████████| 321/321 [1:30:58<00:00, 17.00s/it]\n"
          ]
        },
        {
          "output_type": "stream",
          "name": "stdout",
          "text": [
            "Epoch 1 - Loss: 0.2524, Accuracy: 0.9065\n"
          ]
        },
        {
          "output_type": "stream",
          "name": "stderr",
          "text": [
            "100%|██████████| 81/81 [07:23<00:00,  5.47s/it]\n"
          ]
        },
        {
          "output_type": "stream",
          "name": "stdout",
          "text": [
            "Test Loss: 0.0757, Test Accuracy: 0.9798\n"
          ]
        },
        {
          "output_type": "stream",
          "name": "stderr",
          "text": [
            "100%|██████████| 321/321 [1:31:06<00:00, 17.03s/it]\n"
          ]
        },
        {
          "output_type": "stream",
          "name": "stdout",
          "text": [
            "Epoch 2 - Loss: 0.0610, Accuracy: 0.9840\n"
          ]
        },
        {
          "output_type": "stream",
          "name": "stderr",
          "text": [
            "100%|██████████| 81/81 [07:26<00:00,  5.52s/it]\n"
          ]
        },
        {
          "output_type": "stream",
          "name": "stdout",
          "text": [
            "Test Loss: 0.0383, Test Accuracy: 0.9907\n"
          ]
        },
        {
          "output_type": "stream",
          "name": "stderr",
          "text": [
            "100%|██████████| 321/321 [1:31:06<00:00, 17.03s/it]\n"
          ]
        },
        {
          "output_type": "stream",
          "name": "stdout",
          "text": [
            "Epoch 3 - Loss: 0.0382, Accuracy: 0.9887\n"
          ]
        },
        {
          "output_type": "stream",
          "name": "stderr",
          "text": [
            "100%|██████████| 81/81 [07:29<00:00,  5.55s/it]\n"
          ]
        },
        {
          "output_type": "stream",
          "name": "stdout",
          "text": [
            "Test Loss: 0.0490, Test Accuracy: 0.9860\n"
          ]
        },
        {
          "output_type": "stream",
          "name": "stderr",
          "text": [
            "100%|██████████| 321/321 [1:32:08<00:00, 17.22s/it]\n"
          ]
        },
        {
          "output_type": "stream",
          "name": "stdout",
          "text": [
            "Epoch 4 - Loss: 0.0071, Accuracy: 0.9988\n"
          ]
        },
        {
          "output_type": "stream",
          "name": "stderr",
          "text": [
            "100%|██████████| 81/81 [07:32<00:00,  5.58s/it]\n"
          ]
        },
        {
          "output_type": "stream",
          "name": "stdout",
          "text": [
            "Test Loss: 0.0190, Test Accuracy: 0.9922\n"
          ]
        },
        {
          "output_type": "stream",
          "name": "stderr",
          "text": [
            "100%|██████████| 321/321 [1:30:56<00:00, 17.00s/it]\n"
          ]
        },
        {
          "output_type": "stream",
          "name": "stdout",
          "text": [
            "Epoch 5 - Loss: 0.0037, Accuracy: 0.9992\n"
          ]
        },
        {
          "output_type": "stream",
          "name": "stderr",
          "text": [
            "100%|██████████| 81/81 [07:22<00:00,  5.47s/it]\n"
          ]
        },
        {
          "output_type": "stream",
          "name": "stdout",
          "text": [
            "Test Loss: 0.0261, Test Accuracy: 0.9922\n",
            "\n",
            "Highest Validation Accuracy Achieved: 99.92%\n",
            "Highest Test Accuracy Achieved: 99.22%\n",
            "\n",
            "Classification Report:\n",
            "              precision    recall  f1-score   support\n",
            "\n",
            "           0       1.00      0.99      0.99       330\n",
            "           1       0.99      1.00      0.99       312\n",
            "\n",
            "    accuracy                           0.99       642\n",
            "   macro avg       0.99      0.99      0.99       642\n",
            "weighted avg       0.99      0.99      0.99       642\n",
            "\n"
          ]
        },
        {
          "output_type": "display_data",
          "data": {
            "text/plain": [
              "<Figure size 1000x800 with 2 Axes>"
            ],
            "image/png": "[encoded data removed]"
          },
          "metadata": {}
        }
      ]
    }
  ]
}